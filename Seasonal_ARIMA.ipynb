{
 "cells": [
  {
   "cell_type": "code",
   "execution_count": 1,
   "metadata": {},
   "outputs": [],
   "source": [
    "#importing the required packages\n",
    "import warnings\n",
    "import itertools\n",
    "import pandas as pd\n",
    "import numpy as np\n",
    "import statsmodels.api as sm\n",
    "import matplotlib.pyplot as plt\n",
    "plt.style.use('fivethirtyeight')"
   ]
  },
  {
   "cell_type": "code",
   "execution_count": 7,
   "metadata": {},
   "outputs": [
    {
     "name": "stdout",
     "output_type": "stream",
     "text": [
      "(10553, 10)\n",
      "Date                  object\n",
      "Longitude            float64\n",
      "Latitude             float64\n",
      "Elevation              int64\n",
      "Max Temperature      float64\n",
      "Min Temperature      float64\n",
      "Precipitation        float64\n",
      "Wind                 float64\n",
      "Relative Humidity    float64\n",
      "Solar                float64\n",
      "dtype: object\n"
     ]
    }
   ],
   "source": [
    "# reading the required dataset\n",
    "data = pd.read_csv(\"punprecip.csv\")\n",
    "print(data.shape) \n",
    "data.head()\n",
    "print(data.dtypes)"
   ]
  },
  {
   "cell_type": "code",
   "execution_count": 8,
   "metadata": {},
   "outputs": [
    {
     "data": {
      "text/html": [
       "<div>\n",
       "<style scoped>\n",
       "    .dataframe tbody tr th:only-of-type {\n",
       "        vertical-align: middle;\n",
       "    }\n",
       "\n",
       "    .dataframe tbody tr th {\n",
       "        vertical-align: top;\n",
       "    }\n",
       "\n",
       "    .dataframe thead th {\n",
       "        text-align: right;\n",
       "    }\n",
       "</style>\n",
       "<table border=\"1\" class=\"dataframe\">\n",
       "  <thead>\n",
       "    <tr style=\"text-align: right;\">\n",
       "      <th></th>\n",
       "      <th>Date</th>\n",
       "      <th>Precipitation</th>\n",
       "    </tr>\n",
       "  </thead>\n",
       "  <tbody>\n",
       "    <tr>\n",
       "      <td>0</td>\n",
       "      <td>1/1/1985</td>\n",
       "      <td>4.277804</td>\n",
       "    </tr>\n",
       "    <tr>\n",
       "      <td>1</td>\n",
       "      <td>1/2/1985</td>\n",
       "      <td>1.891709</td>\n",
       "    </tr>\n",
       "    <tr>\n",
       "      <td>2</td>\n",
       "      <td>1/3/1985</td>\n",
       "      <td>0.000000</td>\n",
       "    </tr>\n",
       "    <tr>\n",
       "      <td>3</td>\n",
       "      <td>1/4/1985</td>\n",
       "      <td>6.416703</td>\n",
       "    </tr>\n",
       "    <tr>\n",
       "      <td>4</td>\n",
       "      <td>1/5/1985</td>\n",
       "      <td>25.347509</td>\n",
       "    </tr>\n",
       "  </tbody>\n",
       "</table>\n",
       "</div>"
      ],
      "text/plain": [
       "       Date  Precipitation\n",
       "0  1/1/1985       4.277804\n",
       "1  1/2/1985       1.891709\n",
       "2  1/3/1985       0.000000\n",
       "3  1/4/1985       6.416703\n",
       "4  1/5/1985      25.347509"
      ]
     },
     "execution_count": 8,
     "metadata": {},
     "output_type": "execute_result"
    }
   ],
   "source": [
    "#selecting the required columns\n",
    "df=data[['Date','Precipitation']]\n",
    "df.head()\n"
   ]
  },
  {
   "cell_type": "code",
   "execution_count": 9,
   "metadata": {},
   "outputs": [
    {
     "name": "stderr",
     "output_type": "stream",
     "text": [
      "C:\\Users\\shwet\\Documents\\anaconda\\lib\\site-packages\\ipykernel_launcher.py:1: SettingWithCopyWarning: \n",
      "A value is trying to be set on a copy of a slice from a DataFrame.\n",
      "Try using .loc[row_indexer,col_indexer] = value instead\n",
      "\n",
      "See the caveats in the documentation: http://pandas.pydata.org/pandas-docs/stable/user_guide/indexing.html#returning-a-view-versus-a-copy\n",
      "  \"\"\"Entry point for launching an IPython kernel.\n"
     ]
    },
    {
     "data": {
      "text/plain": [
       "Date             datetime64[ns]\n",
       "Precipitation           float64\n",
       "dtype: object"
      ]
     },
     "execution_count": 9,
     "metadata": {},
     "output_type": "execute_result"
    }
   ],
   "source": [
    "# convert into datetime format\n",
    "df['Date'] = pd.to_datetime(df['Date'])\n",
    "df.dtypes"
   ]
  },
  {
   "cell_type": "code",
   "execution_count": 10,
   "metadata": {},
   "outputs": [
    {
     "data": {
      "text/html": [
       "<div>\n",
       "<style scoped>\n",
       "    .dataframe tbody tr th:only-of-type {\n",
       "        vertical-align: middle;\n",
       "    }\n",
       "\n",
       "    .dataframe tbody tr th {\n",
       "        vertical-align: top;\n",
       "    }\n",
       "\n",
       "    .dataframe thead th {\n",
       "        text-align: right;\n",
       "    }\n",
       "</style>\n",
       "<table border=\"1\" class=\"dataframe\">\n",
       "  <thead>\n",
       "    <tr style=\"text-align: right;\">\n",
       "      <th></th>\n",
       "      <th>Precipitation</th>\n",
       "    </tr>\n",
       "    <tr>\n",
       "      <th>Date</th>\n",
       "      <th></th>\n",
       "    </tr>\n",
       "  </thead>\n",
       "  <tbody>\n",
       "    <tr>\n",
       "      <td>1985-01-01</td>\n",
       "      <td>4.277804</td>\n",
       "    </tr>\n",
       "    <tr>\n",
       "      <td>1985-01-02</td>\n",
       "      <td>1.891709</td>\n",
       "    </tr>\n",
       "    <tr>\n",
       "      <td>1985-01-03</td>\n",
       "      <td>0.000000</td>\n",
       "    </tr>\n",
       "    <tr>\n",
       "      <td>1985-01-04</td>\n",
       "      <td>6.416703</td>\n",
       "    </tr>\n",
       "    <tr>\n",
       "      <td>1985-01-05</td>\n",
       "      <td>25.347509</td>\n",
       "    </tr>\n",
       "  </tbody>\n",
       "</table>\n",
       "</div>"
      ],
      "text/plain": [
       "            Precipitation\n",
       "Date                     \n",
       "1985-01-01       4.277804\n",
       "1985-01-02       1.891709\n",
       "1985-01-03       0.000000\n",
       "1985-01-04       6.416703\n",
       "1985-01-05      25.347509"
      ]
     },
     "execution_count": 10,
     "metadata": {},
     "output_type": "execute_result"
    }
   ],
   "source": [
    "# indexing the Date column\n",
    "df.head()\n",
    "df.dtypes\n",
    "df.set_index('Date', inplace=True)\n",
    "df.head()"
   ]
  },
  {
   "cell_type": "code",
   "execution_count": 11,
   "metadata": {},
   "outputs": [
    {
     "name": "stdout",
     "output_type": "stream",
     "text": [
      "Seasonal ARIMA examples for combination...\n",
      "SARIMAX: (0, 0, 1) x (0, 0, 1, 30)\n",
      "SARIMAX: (0, 0, 1) x (0, 1, 0, 30)\n",
      "SARIMAX: (0, 1, 0) x (0, 1, 1, 30)\n",
      "SARIMAX: (0, 1, 0) x (1, 0, 0, 30)\n"
     ]
    }
   ],
   "source": [
    "# Defining the parameters p,d,q and mentioning the range  \n",
    "p = d = q = range(0, 2)\n",
    "\n",
    "# generating p,d,q\n",
    "pdq = list(itertools.product(p, d, q))\n",
    "\n",
    "# generating seasonal p, q and q triplets combination\n",
    "seasonal_pdq = [(x[0], x[1], x[2], 30) for x in list(itertools.product(p, d, q))]\n",
    "\n",
    "print('Seasonal ARIMA examples for combination...')\n",
    "print('SARIMAX: {} x {}'.format(pdq[1], seasonal_pdq[1]))\n",
    "print('SARIMAX: {} x {}'.format(pdq[1], seasonal_pdq[2]))\n",
    "print('SARIMAX: {} x {}'.format(pdq[2], seasonal_pdq[3]))\n",
    "print('SARIMAX: {} x {}'.format(pdq[2], seasonal_pdq[4]))"
   ]
  },
  {
   "cell_type": "code",
   "execution_count": 12,
   "metadata": {},
   "outputs": [
    {
     "name": "stdout",
     "output_type": "stream",
     "text": [
      "ARIMA(0, 0, 0)x(0, 0, 0, 30) - AIC:86469.34460138164\n",
      "ARIMA(0, 0, 0)x(0, 0, 1, 30) - AIC:85844.03076920754\n",
      "ARIMA(0, 0, 0)x(0, 1, 0, 30) - AIC:91073.14683298187\n",
      "ARIMA(0, 0, 0)x(0, 1, 1, 30) - AIC:85118.51572377102\n",
      "ARIMA(0, 0, 0)x(1, 0, 0, 30) - AIC:85784.12947804248\n",
      "ARIMA(0, 0, 0)x(1, 0, 1, 30) - AIC:85736.87082296445\n",
      "ARIMA(0, 0, 0)x(1, 1, 0, 30) - AIC:88661.95554551193\n",
      "ARIMA(0, 0, 1)x(0, 0, 0, 30) - AIC:83755.5771843894\n",
      "ARIMA(0, 0, 1)x(0, 0, 1, 30) - AIC:83371.242529763\n",
      "ARIMA(0, 0, 1)x(0, 1, 0, 30) - AIC:89273.28748537286\n",
      "ARIMA(0, 0, 1)x(0, 1, 1, 30) - AIC:82806.90587828384\n",
      "ARIMA(0, 0, 1)x(1, 0, 0, 30) - AIC:83365.10031026442\n",
      "ARIMA(0, 0, 1)x(1, 0, 1, 30) - AIC:83326.24958856091\n",
      "ARIMA(0, 0, 1)x(1, 1, 0, 30) - AIC:86578.53234651295\n",
      "ARIMA(0, 0, 1)x(1, 1, 1, 30) - AIC:82758.8014226271\n",
      "ARIMA(0, 1, 0)x(0, 0, 0, 30) - AIC:85045.5883086371\n",
      "ARIMA(0, 1, 0)x(0, 0, 1, 30) - AIC:84823.73971365843\n",
      "ARIMA(0, 1, 0)x(0, 1, 0, 30) - AIC:92116.85636993076\n",
      "ARIMA(0, 1, 0)x(0, 1, 1, 30) - AIC:84742.6938942715\n",
      "ARIMA(0, 1, 0)x(1, 0, 0, 30) - AIC:84830.80170249223\n",
      "ARIMA(0, 1, 0)x(1, 0, 1, 30) - AIC:84825.7398323269\n",
      "ARIMA(0, 1, 0)x(1, 1, 0, 30) - AIC:88802.60736452835\n",
      "ARIMA(0, 1, 0)x(1, 1, 1, 30) - AIC:84744.68532009743\n",
      "ARIMA(0, 1, 1)x(0, 0, 0, 30) - AIC:82157.41015336502\n",
      "ARIMA(0, 1, 1)x(0, 0, 1, 30) - AIC:81945.52901216336\n",
      "ARIMA(0, 1, 1)x(0, 1, 0, 30) - AIC:89261.43275289515\n",
      "ARIMA(0, 1, 1)x(0, 1, 1, 30) - AIC:81873.31630892443\n",
      "ARIMA(0, 1, 1)x(1, 0, 0, 30) - AIC:81959.11126772291\n",
      "ARIMA(0, 1, 1)x(1, 0, 1, 30) - AIC:81947.52880089775\n",
      "ARIMA(0, 1, 1)x(1, 1, 0, 30) - AIC:85987.53650710173\n",
      "ARIMA(0, 1, 1)x(1, 1, 1, 30) - AIC:81875.29610214519\n",
      "ARIMA(1, 0, 0)x(0, 0, 0, 30) - AIC:82451.92937573744\n",
      "ARIMA(1, 0, 0)x(0, 0, 1, 30) - AIC:82203.17494578552\n",
      "ARIMA(1, 0, 0)x(0, 1, 0, 30) - AIC:88724.41121400266\n",
      "ARIMA(1, 0, 0)x(0, 1, 1, 30) - AIC:81853.94387080296\n",
      "ARIMA(1, 0, 0)x(1, 0, 0, 30) - AIC:82200.48217347052\n",
      "ARIMA(1, 0, 0)x(1, 0, 1, 30) - AIC:82194.82420094375\n",
      "ARIMA(1, 0, 0)x(1, 1, 0, 30) - AIC:85751.41659042277\n",
      "ARIMA(1, 0, 0)x(1, 1, 1, 30) - AIC:81849.6378466996\n",
      "ARIMA(1, 0, 1)x(0, 0, 0, 30) - AIC:81847.62482616291\n",
      "ARIMA(1, 0, 1)x(0, 0, 1, 30) - AIC:81633.32420776645\n",
      "ARIMA(1, 0, 1)x(0, 1, 0, 30) - AIC:88556.51240145914\n",
      "ARIMA(1, 0, 1)x(0, 1, 1, 30) - AIC:81448.09512747091\n",
      "ARIMA(1, 0, 1)x(1, 0, 0, 30) - AIC:81639.98081147048\n",
      "ARIMA(1, 0, 1)x(1, 0, 1, 30) - AIC:81635.05927502373\n",
      "ARIMA(1, 0, 1)x(1, 1, 0, 30) - AIC:85457.51208350612\n",
      "ARIMA(1, 0, 1)x(1, 1, 1, 30) - AIC:81449.24382862519\n",
      "ARIMA(1, 1, 0)x(0, 0, 0, 30) - AIC:83666.59668312836\n",
      "ARIMA(1, 1, 0)x(0, 0, 1, 30) - AIC:83449.55907956063\n",
      "ARIMA(1, 1, 0)x(0, 1, 0, 30) - AIC:90758.48871993198\n",
      "ARIMA(1, 1, 0)x(0, 1, 1, 30) - AIC:83370.06069695909\n",
      "ARIMA(1, 1, 0)x(1, 0, 0, 30) - AIC:83449.55850055467\n",
      "ARIMA(1, 1, 0)x(1, 0, 1, 30) - AIC:83451.55875807203\n",
      "ARIMA(1, 1, 0)x(1, 1, 0, 30) - AIC:87413.40805699048\n",
      "ARIMA(1, 1, 0)x(1, 1, 1, 30) - AIC:83372.01897825564\n",
      "ARIMA(1, 1, 1)x(0, 0, 0, 30) - AIC:81519.14951560454\n",
      "ARIMA(1, 1, 1)x(0, 0, 1, 30) - AIC:81308.264840757\n",
      "ARIMA(1, 1, 1)x(0, 1, 0, 30) - AIC:88667.26276695149\n",
      "ARIMA(1, 1, 1)x(0, 1, 1, 30) - AIC:81238.6357333906\n",
      "ARIMA(1, 1, 1)x(1, 0, 0, 30) - AIC:81314.99445208597\n",
      "ARIMA(1, 1, 1)x(1, 0, 1, 30) - AIC:81310.26140438394\n",
      "ARIMA(1, 1, 1)x(1, 1, 0, 30) - AIC:85363.92332423347\n",
      "ARIMA(1, 1, 1)x(1, 1, 1, 30) - AIC:81240.59044971081\n"
     ]
    }
   ],
   "source": [
    "warnings.filterwarnings(\"ignore\") # ignoring the warning messages\n",
    "\n",
    "for param in pdq:\n",
    "    for param_seasonal in seasonal_pdq:\n",
    "        try:\n",
    "            mod = sm.tsa.statespace.SARIMAX(df,\n",
    "                                            order=param,\n",
    "                                            seasonal_order=param_seasonal,\n",
    "                                            enforce_stationarity=False,\n",
    "                                            enforce_invertibility=False)\n",
    "\n",
    "            results = mod.fit()\n",
    "\n",
    "            print('ARIMA{}x{} - AIC:{}'.format(param, param_seasonal, results.aic))\n",
    "        except:\n",
    "            continue"
   ]
  },
  {
   "cell_type": "code",
   "execution_count": 13,
   "metadata": {},
   "outputs": [
    {
     "name": "stdout",
     "output_type": "stream",
     "text": [
      "==============================================================================\n",
      "                 coef    std err          z      P>|z|      [0.025      0.975]\n",
      "------------------------------------------------------------------------------\n",
      "ar.L1          0.3133      0.004     74.447      0.000       0.305       0.322\n",
      "ma.L1         -0.9111      0.003   -359.292      0.000      -0.916      -0.906\n",
      "ma.S.L30      -1.0000      1.702     -0.587      0.557      -4.336       2.336\n",
      "sigma2       133.0820    226.643      0.587      0.557    -311.130     577.294\n",
      "==============================================================================\n"
     ]
    }
   ],
   "source": [
    "#fitting the model\n",
    "mod = sm.tsa.statespace.SARIMAX(df,\n",
    "                                order=(1, 1, 1),\n",
    "                                seasonal_order=(0, 1, 1, 30),\n",
    "                                enforce_stationarity=False,\n",
    "                                enforce_invertibility=False)\n",
    "\n",
    "results = mod.fit()\n",
    "\n",
    "print(results.summary().tables[1])"
   ]
  },
  {
   "cell_type": "code",
   "execution_count": 15,
   "metadata": {},
   "outputs": [],
   "source": [
    "#storing the result on pred\n",
    "pred = results.get_prediction(start=7631, dynamic=False)\n",
    "pred_ci = pred.conf_int()"
   ]
  },
  {
   "cell_type": "code",
   "execution_count": 16,
   "metadata": {},
   "outputs": [
    {
     "data": {
      "image/png": "[encoded data removed]",
      "text/plain": [
       "<Figure size 432x288 with 1 Axes>"
      ]
     },
     "metadata": {
      "needs_background": "light"
     },
     "output_type": "display_data"
    }
   ],
   "source": [
    "#plotting the forecast\n",
    "ax = df.loc['2009':].plot(label='observed')\n",
    "pred.predicted_mean.plot(ax=ax, label='One-step ahead Forecast', alpha=.7)\n",
    "ax.fill_between(pred_ci.index,\n",
    "                pred_ci.iloc[:, 0],\n",
    "                pred_ci.iloc[:, 1], color='k', alpha=.2)\n",
    "\n",
    "ax.set_xlabel('Date')\n",
    "ax.set_ylabel('Precipitation')\n",
    "plt.legend()\n",
    "\n",
    "plt.show()"
   ]
  },
  {
   "cell_type": "code",
   "execution_count": 17,
   "metadata": {},
   "outputs": [],
   "source": [
    "# specifying the actual data range\n",
    "data_forecasted = pred.predicted_mean\n",
    "data_actual = df['2006-01-01':]"
   ]
  },
  {
   "cell_type": "code",
   "execution_count": 18,
   "metadata": {},
   "outputs": [
    {
     "data": {
      "text/plain": [
       "2922"
      ]
     },
     "execution_count": 18,
     "metadata": {},
     "output_type": "execute_result"
    }
   ],
   "source": [
    "len(data_forecasted)"
   ]
  },
  {
   "cell_type": "code",
   "execution_count": 19,
   "metadata": {},
   "outputs": [
    {
     "data": {
      "text/plain": [
       "2922"
      ]
     },
     "execution_count": 19,
     "metadata": {},
     "output_type": "execute_result"
    }
   ],
   "source": [
    "len(data_actual)\n"
   ]
  },
  {
   "cell_type": "code",
   "execution_count": 20,
   "metadata": {},
   "outputs": [
    {
     "data": {
      "text/plain": [
       "2922"
      ]
     },
     "execution_count": 20,
     "metadata": {},
     "output_type": "execute_result"
    }
   ],
   "source": [
    "#creating the list forecast which will append the value\n",
    "forecast=[]\n",
    "for i in data_forecasted:\n",
    "    forecast.append(i)\n",
    "forecast=[round(i,2) for i in forecast]\n",
    "forecast\n",
    "len(forecast)"
   ]
  },
  {
   "cell_type": "code",
   "execution_count": 21,
   "metadata": {},
   "outputs": [
    {
     "data": {
      "text/plain": [
       "2922"
      ]
     },
     "execution_count": 21,
     "metadata": {},
     "output_type": "execute_result"
    }
   ],
   "source": [
    "#creating the list actual which will append the value\n",
    "actual=[]\n",
    "for x in data_actual['Precipitation']:\n",
    "    actual.append(x)\n",
    "actual\n",
    "len(actual)"
   ]
  },
  {
   "cell_type": "code",
   "execution_count": 22,
   "metadata": {},
   "outputs": [
    {
     "data": {
      "text/plain": [
       "13.301572638275248"
      ]
     },
     "execution_count": 22,
     "metadata": {},
     "output_type": "execute_result"
    }
   ],
   "source": [
    "#calculating the rms\n",
    "from sklearn.metrics import mean_squared_error\n",
    "from math import sqrt\n",
    "\n",
    "rms = sqrt(mean_squared_error(actual, forecast))\n",
    "rms"
   ]
  },
  {
   "cell_type": "code",
   "execution_count": null,
   "metadata": {},
   "outputs": [],
   "source": []
  }
 ],
 "metadata": {
  "kernelspec": {
   "display_name": "Python 3",
   "language": "python",
   "name": "python3"
  },
  "language_info": {
   "codemirror_mode": {
    "name": "ipython",
    "version": 3
   },
   "file_extension": ".py",
   "mimetype": "text/x-python",
   "name": "python",
   "nbconvert_exporter": "python",
   "pygments_lexer": "ipython3",
   "version": "3.7.3"
  }
 },
 "nbformat": 4,
 "nbformat_minor": 4
}
