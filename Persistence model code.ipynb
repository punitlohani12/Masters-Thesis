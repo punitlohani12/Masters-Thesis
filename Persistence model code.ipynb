{
 "cells": [
  {
   "cell_type": "code",
   "execution_count": 15,
   "metadata": {},
   "outputs": [
    {
     "name": "stdout",
     "output_type": "stream",
     "text": [
      "(10553, 10)\n"
     ]
    },
    {
     "data": {
      "text/html": [
       "<div>\n",
       "<style scoped>\n",
       "    .dataframe tbody tr th:only-of-type {\n",
       "        vertical-align: middle;\n",
       "    }\n",
       "\n",
       "    .dataframe tbody tr th {\n",
       "        vertical-align: top;\n",
       "    }\n",
       "\n",
       "    .dataframe thead th {\n",
       "        text-align: right;\n",
       "    }\n",
       "</style>\n",
       "<table border=\"1\" class=\"dataframe\">\n",
       "  <thead>\n",
       "    <tr style=\"text-align: right;\">\n",
       "      <th></th>\n",
       "      <th>Date</th>\n",
       "      <th>Longitude</th>\n",
       "      <th>Latitude</th>\n",
       "      <th>Elevation</th>\n",
       "      <th>Max Temperature</th>\n",
       "      <th>Min Temperature</th>\n",
       "      <th>Precipitation</th>\n",
       "      <th>Wind</th>\n",
       "      <th>Relative Humidity</th>\n",
       "      <th>Solar</th>\n",
       "    </tr>\n",
       "  </thead>\n",
       "  <tbody>\n",
       "    <tr>\n",
       "      <th>0</th>\n",
       "      <td>1/1/1985</td>\n",
       "      <td>75.9375</td>\n",
       "      <td>31.379</td>\n",
       "      <td>260</td>\n",
       "      <td>11.429</td>\n",
       "      <td>4.962</td>\n",
       "      <td>4.277804</td>\n",
       "      <td>2.094020</td>\n",
       "      <td>0.833922</td>\n",
       "      <td>2.362215</td>\n",
       "    </tr>\n",
       "    <tr>\n",
       "      <th>1</th>\n",
       "      <td>1/2/1985</td>\n",
       "      <td>75.9375</td>\n",
       "      <td>31.379</td>\n",
       "      <td>260</td>\n",
       "      <td>12.176</td>\n",
       "      <td>3.553</td>\n",
       "      <td>1.891709</td>\n",
       "      <td>1.070998</td>\n",
       "      <td>0.780621</td>\n",
       "      <td>1.628381</td>\n",
       "    </tr>\n",
       "    <tr>\n",
       "      <th>2</th>\n",
       "      <td>1/3/1985</td>\n",
       "      <td>75.9375</td>\n",
       "      <td>31.379</td>\n",
       "      <td>260</td>\n",
       "      <td>15.215</td>\n",
       "      <td>2.908</td>\n",
       "      <td>0.000000</td>\n",
       "      <td>1.955551</td>\n",
       "      <td>0.636459</td>\n",
       "      <td>7.630823</td>\n",
       "    </tr>\n",
       "    <tr>\n",
       "      <th>3</th>\n",
       "      <td>1/4/1985</td>\n",
       "      <td>75.9375</td>\n",
       "      <td>31.379</td>\n",
       "      <td>260</td>\n",
       "      <td>11.485</td>\n",
       "      <td>7.687</td>\n",
       "      <td>6.416703</td>\n",
       "      <td>1.585266</td>\n",
       "      <td>0.729288</td>\n",
       "      <td>1.912389</td>\n",
       "    </tr>\n",
       "    <tr>\n",
       "      <th>4</th>\n",
       "      <td>1/5/1985</td>\n",
       "      <td>75.9375</td>\n",
       "      <td>31.379</td>\n",
       "      <td>260</td>\n",
       "      <td>9.884</td>\n",
       "      <td>7.581</td>\n",
       "      <td>25.347509</td>\n",
       "      <td>1.533139</td>\n",
       "      <td>0.929392</td>\n",
       "      <td>1.297800</td>\n",
       "    </tr>\n",
       "  </tbody>\n",
       "</table>\n",
       "</div>"
      ],
      "text/plain": [
       "       Date  Longitude  Latitude  Elevation  Max Temperature  Min Temperature  \\\n",
       "0  1/1/1985    75.9375    31.379        260           11.429            4.962   \n",
       "1  1/2/1985    75.9375    31.379        260           12.176            3.553   \n",
       "2  1/3/1985    75.9375    31.379        260           15.215            2.908   \n",
       "3  1/4/1985    75.9375    31.379        260           11.485            7.687   \n",
       "4  1/5/1985    75.9375    31.379        260            9.884            7.581   \n",
       "\n",
       "   Precipitation      Wind  Relative Humidity     Solar  \n",
       "0       4.277804  2.094020           0.833922  2.362215  \n",
       "1       1.891709  1.070998           0.780621  1.628381  \n",
       "2       0.000000  1.955551           0.636459  7.630823  \n",
       "3       6.416703  1.585266           0.729288  1.912389  \n",
       "4      25.347509  1.533139           0.929392  1.297800  "
      ]
     },
     "execution_count": 15,
     "metadata": {},
     "output_type": "execute_result"
    }
   ],
   "source": [
    "#importing packages and loading the dataset\n",
    "import pandas as pd\n",
    "from pandas import read_csv\n",
    "from pandas import datetime\n",
    "from pandas import DataFrame\n",
    "from pandas import concat\n",
    "from matplotlib import pyplot\n",
    "from math import sqrt\n",
    "import warnings\n",
    "import matplotlib as mpl\n",
    "import matplotlib.pyplot as plt\n",
    "import numpy as np\n",
    "import tensorflow as tf\n",
    "import os\n",
    "import pandas as pd\n",
    "from sklearn.metrics import mean_squared_error\n",
    "\n",
    "#loading the dataset\n",
    "precip = pd.read_csv(r\"C:\\Users\\punit\\Desktop\\Thesis\\New Dataset\\Taking\\punprecip.csv\")\n",
    "print(precip.shape) \n",
    "precip.head()\n"
   ]
  },
  {
   "cell_type": "code",
   "execution_count": 16,
   "metadata": {},
   "outputs": [
    {
     "name": "stdout",
     "output_type": "stream",
     "text": [
      "Index(['Date', 'Longitude', 'Latitude', 'Elevation', 'Max Temperature',\n",
      "       'Min Temperature', 'Precipitation', 'Wind', 'Relative Humidity',\n",
      "       'Solar'],\n",
      "      dtype='object')\n"
     ]
    }
   ],
   "source": [
    "#printing the columns in precip\n",
    "print(precip.columns)"
   ]
  },
  {
   "cell_type": "code",
   "execution_count": 17,
   "metadata": {},
   "outputs": [
    {
     "data": {
      "text/html": [
       "<div>\n",
       "<style scoped>\n",
       "    .dataframe tbody tr th:only-of-type {\n",
       "        vertical-align: middle;\n",
       "    }\n",
       "\n",
       "    .dataframe tbody tr th {\n",
       "        vertical-align: top;\n",
       "    }\n",
       "\n",
       "    .dataframe thead th {\n",
       "        text-align: right;\n",
       "    }\n",
       "</style>\n",
       "<table border=\"1\" class=\"dataframe\">\n",
       "  <thead>\n",
       "    <tr style=\"text-align: right;\">\n",
       "      <th></th>\n",
       "      <th>Date</th>\n",
       "      <th>Precipitation</th>\n",
       "    </tr>\n",
       "  </thead>\n",
       "  <tbody>\n",
       "    <tr>\n",
       "      <th>0</th>\n",
       "      <td>1/1/1985</td>\n",
       "      <td>4.277804</td>\n",
       "    </tr>\n",
       "    <tr>\n",
       "      <th>1</th>\n",
       "      <td>1/2/1985</td>\n",
       "      <td>1.891709</td>\n",
       "    </tr>\n",
       "    <tr>\n",
       "      <th>2</th>\n",
       "      <td>1/3/1985</td>\n",
       "      <td>0.000000</td>\n",
       "    </tr>\n",
       "    <tr>\n",
       "      <th>3</th>\n",
       "      <td>1/4/1985</td>\n",
       "      <td>6.416703</td>\n",
       "    </tr>\n",
       "    <tr>\n",
       "      <th>4</th>\n",
       "      <td>1/5/1985</td>\n",
       "      <td>25.347509</td>\n",
       "    </tr>\n",
       "  </tbody>\n",
       "</table>\n",
       "</div>"
      ],
      "text/plain": [
       "       Date  Precipitation\n",
       "0  1/1/1985       4.277804\n",
       "1  1/2/1985       1.891709\n",
       "2  1/3/1985       0.000000\n",
       "3  1/4/1985       6.416703\n",
       "4  1/5/1985      25.347509"
      ]
     },
     "execution_count": 17,
     "metadata": {},
     "output_type": "execute_result"
    }
   ],
   "source": [
    "#selecting the required columns\n",
    "precip = precip[['Date', 'Precipitation']].copy()\n",
    "precip.head()"
   ]
  },
  {
   "cell_type": "code",
   "execution_count": 18,
   "metadata": {},
   "outputs": [],
   "source": [
    "#conversion into datetime\n",
    "precip['Date']=pd.to_datetime(precip['Date'])"
   ]
  },
  {
   "cell_type": "code",
   "execution_count": 19,
   "metadata": {},
   "outputs": [
    {
     "data": {
      "text/html": [
       "<div>\n",
       "<style scoped>\n",
       "    .dataframe tbody tr th:only-of-type {\n",
       "        vertical-align: middle;\n",
       "    }\n",
       "\n",
       "    .dataframe tbody tr th {\n",
       "        vertical-align: top;\n",
       "    }\n",
       "\n",
       "    .dataframe thead th {\n",
       "        text-align: right;\n",
       "    }\n",
       "</style>\n",
       "<table border=\"1\" class=\"dataframe\">\n",
       "  <thead>\n",
       "    <tr style=\"text-align: right;\">\n",
       "      <th></th>\n",
       "      <th>Precipitation</th>\n",
       "    </tr>\n",
       "    <tr>\n",
       "      <th>Date</th>\n",
       "      <th></th>\n",
       "    </tr>\n",
       "  </thead>\n",
       "  <tbody>\n",
       "    <tr>\n",
       "      <th>1985-01-01</th>\n",
       "      <td>4.277804</td>\n",
       "    </tr>\n",
       "    <tr>\n",
       "      <th>1985-01-02</th>\n",
       "      <td>1.891709</td>\n",
       "    </tr>\n",
       "    <tr>\n",
       "      <th>1985-01-03</th>\n",
       "      <td>0.000000</td>\n",
       "    </tr>\n",
       "    <tr>\n",
       "      <th>1985-01-04</th>\n",
       "      <td>6.416703</td>\n",
       "    </tr>\n",
       "    <tr>\n",
       "      <th>1985-01-05</th>\n",
       "      <td>25.347509</td>\n",
       "    </tr>\n",
       "  </tbody>\n",
       "</table>\n",
       "</div>"
      ],
      "text/plain": [
       "            Precipitation\n",
       "Date                     \n",
       "1985-01-01       4.277804\n",
       "1985-01-02       1.891709\n",
       "1985-01-03       0.000000\n",
       "1985-01-04       6.416703\n",
       "1985-01-05      25.347509"
      ]
     },
     "execution_count": 19,
     "metadata": {},
     "output_type": "execute_result"
    }
   ],
   "source": [
    "#Date column has been converted as index\n",
    "precip.set_index('Date', inplace=True)\n",
    "precip.head()"
   ]
  },
  {
   "cell_type": "code",
   "execution_count": 20,
   "metadata": {},
   "outputs": [
    {
     "data": {
      "image/png": "[encoded data removed]",
      "text/plain": [
       "<Figure size 432x288 with 1 Axes>"
      ]
     },
     "metadata": {
      "needs_background": "light"
     },
     "output_type": "display_data"
    }
   ],
   "source": [
    "#line plot\n",
    "precip.plot()\n",
    "pyplot.show()"
   ]
  },
  {
   "cell_type": "code",
   "execution_count": 21,
   "metadata": {},
   "outputs": [],
   "source": [
    "# converting time series data to supervised learning data\n",
    "def series_to_supervised(data, n_in=1, n_out=1, dropnan=True):\n",
    "    n_vars = 1 if type(data) is list else data.shape[1]\n",
    "    df = DataFrame(data)\n",
    "    cols, names = list(), list()\n",
    "    # input sequence (t-n, ... t-1)\n",
    "    for i in range(n_in, 0, -1):\n",
    "        cols.append(df.shift(i))\n",
    "        names += [('var%d(t-%d)' % (j+1, i)) for j in range(n_vars)]\n",
    "    # forecast sequence (t, t+1, ... t+n)\n",
    "    for i in range(0, n_out):\n",
    "        cols.append(df.shift(-i))\n",
    "        if i == 0:\n",
    "            names += [('var%d(t)' % (j+1)) for j in range(n_vars)]\n",
    "        else:\n",
    "            names += [('var%d(t+%d)' % (j+1, i)) for j in range(n_vars)]\n",
    "    # puting all together\n",
    "    agg = concat(cols, axis=1)\n",
    "    agg.columns = names\n",
    "    # dropping the rows with NaN values \n",
    "    if dropnan:\n",
    "        agg.dropna(inplace=True)\n",
    "    return agg"
   ]
  },
  {
   "cell_type": "code",
   "execution_count": 22,
   "metadata": {},
   "outputs": [],
   "source": [
    "# transforming the series into train and test sets for supervised learning\n",
    "def prepare_data(precip, n_test, n_lag, n_seq):\n",
    "    # extract raw values\n",
    "    raw_values = precip.values\n",
    "    raw_values = raw_values.reshape(len(raw_values), 1)\n",
    "    # transforming into supervised learning problem X, y\n",
    "    supervised = series_to_supervised(raw_values, n_lag, n_seq)\n",
    "    supervised_values = supervised.values\n",
    "    # splitting into training and testing sets\n",
    "    train, test = supervised_values[0:-n_test], supervised_values[-n_test:]\n",
    "    return train, test"
   ]
  },
  {
   "cell_type": "code",
   "execution_count": 23,
   "metadata": {},
   "outputs": [],
   "source": [
    "# making a persistence forecast\n",
    "def persistence(last_ob, n_seq):\n",
    "    return [last_ob for i in range(n_seq)]"
   ]
  },
  {
   "cell_type": "code",
   "execution_count": 24,
   "metadata": {},
   "outputs": [],
   "source": [
    "# evaluationg the persistence model\n",
    "def make_forecasts(train, test, n_lag, n_seq):\n",
    "    forecasts = list()\n",
    "    for i in range(len(test)):\n",
    "        X, y = test[i, 0:n_lag], test[i, n_lag:]\n",
    "        # making forecast\n",
    "        forecast = persistence(X[-1], n_seq)\n",
    "        # storing the forecast\n",
    "        forecasts.append(forecast)\n",
    "    return forecasts"
   ]
  },
  {
   "cell_type": "code",
   "execution_count": 25,
   "metadata": {},
   "outputs": [],
   "source": [
    "# evaluating the RMSE for each forecast time step\n",
    "def evaluate_forecasts(test, forecasts, n_lag, n_seq):\n",
    "    for i in range(n_seq):\n",
    "        actual = test[:,(n_lag+i)]\n",
    "        predicted = [forecast[i] for forecast in forecasts]\n",
    "        rmse = sqrt(mean_squared_error(actual, predicted))\n",
    "        print('t+%d RMSE: %f' % ((i+1), rmse))"
   ]
  },
  {
   "cell_type": "code",
   "execution_count": 26,
   "metadata": {},
   "outputs": [],
   "source": [
    "# plotting the forecasts in the context of the original dataset\n",
    "def plot_forecasts(precip, forecasts, n_test):\n",
    "    # plotting f the  the entire dataset \n",
    "    pyplot.plot(precip.values)\n",
    "    # plotting of the forecasts \n",
    "    for i in range(len(forecasts)):\n",
    "        off_s = len(precip) - n_test + i - 1\n",
    "        off_e = off_s + len(forecasts[i]) + 1\n",
    "        xaxis = [x for x in range(off_s, off_e)]\n",
    "        yaxis = [precip.values[off_s]] + forecasts[i]\n",
    "        pyplot.plot(xaxis, yaxis, color='red')\n",
    "    # showing the plot\n",
    "    pyplot.show()"
   ]
  },
  {
   "cell_type": "code",
   "execution_count": 27,
   "metadata": {},
   "outputs": [],
   "source": [
    "#configuring n_lag,n_seq and n_test\n",
    "n_lag = 1\n",
    "n_seq = 3\n",
    "n_test = 2932\n",
    "\n",
    "#preparing the data\n",
    "train, test = prepare_data(precip, n_test, n_lag, n_seq)"
   ]
  },
  {
   "cell_type": "code",
   "execution_count": 28,
   "metadata": {},
   "outputs": [
    {
     "name": "stdout",
     "output_type": "stream",
     "text": [
      "t+1 RMSE: 16.320334\n",
      "t+2 RMSE: 17.744062\n",
      "t+3 RMSE: 17.962682\n"
     ]
    }
   ],
   "source": [
    "#making the forecasts\n",
    "forecasts = make_forecasts(train, test, n_lag, n_seq)\n",
    "#evaluating the forecasts\n",
    "evaluate_forecasts(test, forecasts, n_lag, n_seq)"
   ]
  },
  {
   "cell_type": "code",
   "execution_count": null,
   "metadata": {},
   "outputs": [],
   "source": []
  }
 ],
 "metadata": {
  "kernelspec": {
   "display_name": "Python 3",
   "language": "python",
   "name": "python3"
  },
  "language_info": {
   "codemirror_mode": {
    "name": "ipython",
    "version": 3
   },
   "file_extension": ".py",
   "mimetype": "text/x-python",
   "name": "python",
   "nbconvert_exporter": "python",
   "pygments_lexer": "ipython3",
   "version": "3.7.3"
  }
 },
 "nbformat": 4,
 "nbformat_minor": 2
}
